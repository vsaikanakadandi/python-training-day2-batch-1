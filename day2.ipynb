{
 "cells": [
  {
   "cell_type": "code",
   "execution_count": 1,
   "id": "e8bef114-60d2-4302-91ca-9bfbb47464fd",
   "metadata": {},
   "outputs": [
    {
     "name": "stdout",
     "output_type": "stream",
     "text": [
      "(7, 8)\n",
      "<class 'tuple'>\n"
     ]
    }
   ],
   "source": [
    "a=7, 8\n",
    "print(a)\n",
    "print(type(a))\n"
   ]
  },
  {
   "cell_type": "code",
   "execution_count": 2,
   "id": "e21063cf-cb19-4010-a1f1-123c15060e8c",
   "metadata": {},
   "outputs": [
    {
     "name": "stdout",
     "output_type": "stream",
     "text": [
      "7\n",
      "8\n",
      "(7, 8)\n"
     ]
    }
   ],
   "source": [
    "a, b=c=7, 8\n",
    "print(a)\n",
    "print(b)\n",
    "print(c)"
   ]
  },
  {
   "cell_type": "code",
   "execution_count": 4,
   "id": "a769b1de-bfce-42dd-829c-889c7ca74511",
   "metadata": {},
   "outputs": [
    {
     "name": "stdout",
     "output_type": "stream",
     "text": [
      "9 8 7\n"
     ]
    }
   ],
   "source": [
    "a, b, c = 9, 8, 7,\n",
    "print(a, b, c)"
   ]
  },
  {
   "cell_type": "code",
   "execution_count": 5,
   "id": "896c4952-e224-4af7-88c3-bbfeb59c1a34",
   "metadata": {},
   "outputs": [
    {
     "name": "stdout",
     "output_type": "stream",
     "text": [
      "(7, 8) 7 8\n"
     ]
    }
   ],
   "source": [
    "a=b, c=7, 8\n",
    "print(a, b, c)"
   ]
  },
  {
   "cell_type": "code",
   "execution_count": null,
   "id": "0c08a707-633a-48dd-8a25-741e8f6c1fba",
   "metadata": {},
   "outputs": [],
   "source": [
    "'''\n",
    "\n",
    "---> swapping of variables\n",
    "a = 7\n",
    "b = 5"
   ]
  },
  {
   "cell_type": "code",
   "execution_count": 7,
   "id": "2caa81cc-9a30-4b2a-b632-650d366d7e48",
   "metadata": {},
   "outputs": [
    {
     "name": "stdout",
     "output_type": "stream",
     "text": [
      "5 7\n",
      "7\n"
     ]
    }
   ],
   "source": [
    "a=7\n",
    "b=5\n",
    "c=a, b=5, 7\n",
    "print(a, b)\n",
    "print(b)"
   ]
  },
  {
   "cell_type": "code",
   "execution_count": 12,
   "id": "28ff776a-9e4e-44d6-b4b5-714ae8849636",
   "metadata": {},
   "outputs": [
    {
     "name": "stdout",
     "output_type": "stream",
     "text": [
      "5 7\n",
      "7\n"
     ]
    }
   ],
   "source": [
    "#eg for swapping\n",
    "temp=a \n",
    "a=b   \n",
    "b=temp  \n",
    "\n",
    "a=5\n",
    "b=7\n",
    "print(a, b)\n",
    "print(b)"
   ]
  },
  {
   "cell_type": "code",
   "execution_count": 15,
   "id": "e6b28c26-20a6-4028-94d6-2755a6948b95",
   "metadata": {},
   "outputs": [
    {
     "name": "stdout",
     "output_type": "stream",
     "text": [
      "5 7\n"
     ]
    }
   ],
   "source": [
    "a=7\n",
    "b=5\n",
    "a=a+b\n",
    "b=a-b\n",
    "a=a-b\n",
    "print(a, b)"
   ]
  },
  {
   "cell_type": "code",
   "execution_count": 16,
   "id": "0d8a3be9-b471-4686-aced-ae6bdf3de0bd",
   "metadata": {},
   "outputs": [
    {
     "name": "stdout",
     "output_type": "stream",
     "text": [
      "5 7\n"
     ]
    }
   ],
   "source": [
    "a, b+b, a\n",
    "print(a, b)"
   ]
  },
  {
   "cell_type": "code",
   "execution_count": 20,
   "id": "e34cf7ad-392a-4b4e-b6c0-3d290b34c26e",
   "metadata": {},
   "outputs": [
    {
     "name": "stdout",
     "output_type": "stream",
     "text": [
      "0.2 7.0\n"
     ]
    }
   ],
   "source": [
    "a=7\n",
    "b=5\n",
    "a=a*b\n",
    "b=a/b\n",
    "a=b/a\n",
    "print(a, b)"
   ]
  },
  {
   "cell_type": "code",
   "execution_count": null,
   "id": "603da966-50ae-4b45-9a56-72ca9f9c213b",
   "metadata": {},
   "outputs": [],
   "source": [
    "'''\n",
    "id()--->used to find the memory of that variables\n",
    "a=7=8\n",
    "print(id(a))\n",
    "print(id(b))\n",
    "\n",
    "-----> Key words\n",
    "keywords are reserved words which provides special meaning to compiler or interpreter\n",
    "\n",
    "b"
   ]
  },
  {
   "cell_type": "code",
   "execution_count": 24,
   "id": "9c3b6f39-4a34-4328-95c9-ca849103d651",
   "metadata": {},
   "outputs": [
    {
     "name": "stdout",
     "output_type": "stream",
     "text": [
      "['False', 'None', 'True', 'and', 'as', 'assert', 'async', 'await', 'break', 'class', 'continue', 'def', 'del', 'elif', 'else', 'except', 'finally', 'for', 'from', 'global', 'if', 'import', 'in', 'is', 'lambda', 'nonlocal', 'not', 'or', 'pass', 'raise', 'return', 'try', 'while', 'with', 'yield']\n",
      "<class 'list'>\n",
      "35\n"
     ]
    }
   ],
   "source": [
    "import keyword\n",
    "print(keyword.kwlist)\n",
    "print(type(keyword.kwlist))\n",
    "print(len(keyword.kwlist))"
   ]
  },
  {
   "cell_type": "code",
   "execution_count": 23,
   "id": "3d745757-250b-4208-85c4-01a0fc1edae7",
   "metadata": {},
   "outputs": [
    {
     "name": "stdout",
     "output_type": "stream",
     "text": [
      "<module 'keyword' from 'C:\\\\Users\\\\lenovo\\\\anaconda3\\\\Lib\\\\keyword.py'>\n",
      "<class 'module'>\n"
     ]
    }
   ],
   "source": [
    "import keyword\n",
    "print(keyword)\n",
    "print(type(keyword))"
   ]
  },
  {
   "cell_type": "code",
   "execution_count": 27,
   "id": "e3b2ed46-d51e-4f40-9b2d-fa862d707b91",
   "metadata": {},
   "outputs": [
    {
     "name": "stdout",
     "output_type": "stream",
     "text": [
      "True\n",
      "False\n"
     ]
    }
   ],
   "source": [
    "# to check if the string is keyword or not\n",
    "print(keyword.iskeyword(\"break\"))\n",
    "print(keyword.iskeyword(\"fill\"))"
   ]
  },
  {
   "cell_type": "code",
   "execution_count": 28,
   "id": "ea5f29be-3900-472b-994e-45edd6501cbc",
   "metadata": {},
   "outputs": [],
   "source": [
    "'''\n",
    "-----> literals\n",
    "literal is a constant vnamaste alue assigned to a variable\n",
    "A variable is considers to be constant when it is a caps\n",
    "'''\n",
    "a=78 #a is variable\n",
    "A=78 # A is constant\n"
   ]
  },
  {
   "cell_type": "code",
   "execution_count": 29,
   "id": "8e5551b6-ef0b-44c4-adf9-6c24c9473a09",
   "metadata": {},
   "outputs": [
    {
     "name": "stdout",
     "output_type": "stream",
     "text": [
      "7000110\n"
     ]
    },
    {
     "ename": "TypeError",
     "evalue": "unhashable type: 'list'",
     "output_type": "error",
     "traceback": [
      "\u001b[1;31m---------------------------------------------------------------------------\u001b[0m",
      "\u001b[1;31mTypeError\u001b[0m                                 Traceback (most recent call last)",
      "Cell \u001b[1;32mIn[29], line 8\u001b[0m\n\u001b[0;32m      5\u001b[0m \u001b[38;5;28mprint\u001b[39m(\u001b[38;5;28mhash\u001b[39m(n1))\n\u001b[0;32m      7\u001b[0m f1 \u001b[38;5;241m=\u001b[39m [\u001b[38;5;241m7\u001b[39m,\u001b[38;5;241m8\u001b[39m,\u001b[38;5;241m9\u001b[39m]\n\u001b[1;32m----> 8\u001b[0m \u001b[38;5;28mprint\u001b[39m(\u001b[38;5;28mhash\u001b[39m(f1))\n",
      "\u001b[1;31mTypeError\u001b[0m: unhashable type: 'list'"
     ]
    }
   ],
   "source": [
    "'''\n",
    "hash() ---> it creates a hash value for constant data types and provides error for non constant data types\n",
    "'''\n",
    "n1 = 89+7j\n",
    "print(hash(n1))\n",
    "\n",
    "f1 = [7,8,9]\n",
    "print(hash(f1))"
   ]
  },
  {
   "cell_type": "code",
   "execution_count": 32,
   "id": "2191ae23-8682-4646-b9d3-603a9a25559b",
   "metadata": {},
   "outputs": [
    {
     "ename": "ModuleNotFoundError",
     "evalue": "No module named 'operators'",
     "output_type": "error",
     "traceback": [
      "\u001b[1;31m---------------------------------------------------------------------------\u001b[0m",
      "\u001b[1;31mModuleNotFoundError\u001b[0m                       Traceback (most recent call last)",
      "Cell \u001b[1;32mIn[32], line 1\u001b[0m\n\u001b[1;32m----> 1\u001b[0m \u001b[38;5;28;01mimport\u001b[39;00m \u001b[38;5;21;01moperators\u001b[39;00m\n\u001b[0;32m      2\u001b[0m \u001b[38;5;28mprint\u001b[39m(\u001b[38;5;28mlen\u001b[39m(operators))\n",
      "\u001b[1;31mModuleNotFoundError\u001b[0m: No module named 'operators'"
     ]
    }
   ],
   "source": [
    "'''\n",
    "-----> operators\n",
    "operators are symbols which is used to perform various operations between 2 or more operands\n",
    "arithmatic\n",
    "assignment\n",
    "logical\n",
    "relational or comparision\n",
    "bitwise\n",
    "identity\n",
    "membership\n",
    "\n",
    "!-----> Arithmatic ---> +, -, *, /, %, //, **\n",
    "eg:1\n",
    "a=8\n",
    "b=6\n",
    "c=9\n",
    "print(a+b+c)"
   ]
  },
  {
   "cell_type": "code",
   "execution_count": 35,
   "id": "ab23d501-8666-4cbd-8ee5-efddde8f98ef",
   "metadata": {},
   "outputs": [
    {
     "name": "stdin",
     "output_type": "stream",
     "text": [
      "enter the value 7.99\n"
     ]
    },
    {
     "name": "stdout",
     "output_type": "stream",
     "text": [
      "<class 'float'>\n"
     ]
    }
   ],
   "source": [
    "n1=eval(input(\"enter the value\"))\n",
    "print(type(n1))\n",
    "\n",
    "'''\n",
    "input() ---> used to get the runtime input\n",
    "eval() ---> used to get the runtime values of all datatype"
   ]
  },
  {
   "cell_type": "code",
   "execution_count": 41,
   "id": "279459ba-6928-4156-a19d-dde598e7ae53",
   "metadata": {},
   "outputs": [
    {
     "name": "stdin",
     "output_type": "stream",
     "text": [
      "enter the value of a 5567.763\n",
      "enter the value of b 983.6345\n"
     ]
    },
    {
     "name": "stdout",
     "output_type": "stream",
     "text": [
      "the answer is 5.660398247519785\n",
      "the reminder is 649.5904999999999\n"
     ]
    }
   ],
   "source": [
    "a = eval(input(\"enter the value of a\"))\n",
    "b = eval(input(\"enter the value of b\"))\n",
    "print(\"the answer is\",a/b) # is used to get quotient value\n",
    "print(\"the reminder is\",a%b) # is used to get the reminder value"
   ]
  },
  {
   "cell_type": "code",
   "execution_count": 44,
   "id": "0224ee41-2ed1-4d35-8a3d-c4853627128b",
   "metadata": {},
   "outputs": [
    {
     "name": "stdin",
     "output_type": "stream",
     "text": [
      "enter the value 45\n",
      "enter the value 3\n"
     ]
    },
    {
     "name": "stdout",
     "output_type": "stream",
     "text": [
      "15\n",
      "91125\n"
     ]
    }
   ],
   "source": [
    "'''\n",
    "---> floor division\n",
    "'''\n",
    "a= int(input(\"enter the value\"))\n",
    "b= int(input(\"enter the value\"))\n",
    "print(a//b) # ----> the output will be in integer and output will be based on the floor value\n",
    "#------> ** used for power of the number \n",
    "print(a**b)"
   ]
  },
  {
   "cell_type": "code",
   "execution_count": 46,
   "id": "8f7a7956-4d34-4238-9a81-c35cf840d6e0",
   "metadata": {},
   "outputs": [
    {
     "name": "stdout",
     "output_type": "stream",
     "text": [
      "10\n",
      "7\n"
     ]
    }
   ],
   "source": [
    "# -----> assignment ---> +-=, -=, /=, *=, //=, **=, &=, |=\n",
    "a=8\n",
    "a+=2\n",
    "print(a)\n",
    "\n",
    "a=30\n",
    "a-=23\n",
    "print(a)\n",
    "\n"
   ]
  },
  {
   "cell_type": "code",
   "execution_count": 48,
   "id": "9f6abae7-9bd3-42ac-af5e-07df4649bbed",
   "metadata": {},
   "outputs": [
    {
     "name": "stdout",
     "output_type": "stream",
     "text": [
      "False\n"
     ]
    }
   ],
   "source": [
    "# comparision ---> ==, >, <, !=, <=, >=\n",
    "a=8\n",
    "b=7\n",
    "print(a<b)"
   ]
  },
  {
   "cell_type": "code",
   "execution_count": 52,
   "id": "d1c7f4fe-ef16-4580-94c8-3e06d2780947",
   "metadata": {},
   "outputs": [
    {
     "name": "stdout",
     "output_type": "stream",
     "text": [
      "4\n",
      "14\n",
      "True\n",
      "False\n",
      "True\n"
     ]
    }
   ],
   "source": [
    "# bitwise operator --->\n",
    "\n",
    "a=7\n",
    "b=4\n",
    "print(a&b)  \n",
    "\n",
    "'''\n",
    "2^4 2^3 2^2 2^1 2^0\n",
    "16   8   4   2   1\n",
    "\n",
    " 0    0   1   1   1 -----> 7\n",
    " 0    0   1   0   0 ------> 4               & and operation\n",
    " -----------------------------\n",
    " 0    0   1   0   0  ------> 4\n",
    "\n",
    "\n",
    " '''\n",
    "a=10\n",
    "b=6\n",
    "print(a|b)\n",
    "\n",
    "'''\n",
    "0  1  0  1  0 -------> 10\n",
    "0  0  1  1  0 --------> 6\n",
    "-------------------------\n",
    "0  1  1  1  0 --------> 14r operation \n",
    "'''\n",
    "\n",
    "\n",
    "'''\n",
    "\n",
    "logical operators \n",
    "and, or, not \n",
    "'''\n",
    "\n",
    "a=6\n",
    "print(a>3 and a<10)\n",
    "print(a>7 and a<30)\n",
    "print(not(a>8 and a<10))\n",
    "\n"
   ]
  },
  {
   "cell_type": "code",
   "execution_count": 55,
   "id": "7d533349-8c15-41d2-87b6-2b4c1d5f9323",
   "metadata": {},
   "outputs": [
    {
     "name": "stdout",
     "output_type": "stream",
     "text": [
      "True\n",
      "True\n",
      "False\n",
      "True\n"
     ]
    }
   ],
   "source": [
    "# identity operator is used to compare the memory locations which are stored\n",
    "#is, is not\n",
    "\n",
    "a=8\n",
    "b=8\n",
    "print(a is b)\n",
    "print(a==b)\n",
    "\n",
    "a= [1, 2, 3]\n",
    "b= [1, 2, 3]\n",
    "print(a is b)\n",
    "print(a is not b)"
   ]
  },
  {
   "cell_type": "code",
   "execution_count": 57,
   "id": "16b6af4e-d45d-4dde-b998-35966b41f5e1",
   "metadata": {},
   "outputs": [
    {
     "name": "stdout",
     "output_type": "stream",
     "text": [
      "False\n",
      "True\n"
     ]
    },
    {
     "ename": "TypeError",
     "evalue": "argument of type 'int' is not iterable",
     "output_type": "error",
     "traceback": [
      "\u001b[1;31m---------------------------------------------------------------------------\u001b[0m",
      "\u001b[1;31mTypeError\u001b[0m                                 Traceback (most recent call last)",
      "Cell \u001b[1;32mIn[57], line 11\u001b[0m\n\u001b[0;32m      7\u001b[0m \u001b[38;5;28mprint\u001b[39m(num \u001b[38;5;129;01mnot\u001b[39;00m \u001b[38;5;129;01min\u001b[39;00m l1)\n\u001b[0;32m     10\u001b[0m num \u001b[38;5;241m=\u001b[39m \u001b[38;5;241m778\u001b[39m\n\u001b[1;32m---> 11\u001b[0m \u001b[38;5;28mprint\u001b[39m(\u001b[38;5;241m8\u001b[39m \u001b[38;5;129;01min\u001b[39;00m num)\n",
      "\u001b[1;31mTypeError\u001b[0m: argument of type 'int' is not iterable"
     ]
    }
   ],
   "source": [
    "# membership operator\n",
    "# in, not in\n",
    "\n",
    "l1 = [7,8,9,10,2,3]\n",
    "num = 55\n",
    "print(num in l1)\n",
    "print(num not in l1)\n",
    "\n",
    "\n",
    "num = 778\n",
    "print(8 in num) # error"
   ]
  },
  {
   "cell_type": "code",
   "execution_count": 64,
   "id": "bdd53e41-b170-4580-bd4d-bd613dbef6fb",
   "metadata": {},
   "outputs": [
    {
     "name": "stdout",
     "output_type": "stream",
     "text": [
      "hello\n",
      "yes\n",
      "no\n",
      "no\n"
     ]
    }
   ],
   "source": [
    "'''\n",
    "Conditional statements\n",
    "if, elif, else\n",
    "'''\n",
    "#Eg;1\n",
    "a=6\n",
    "if a:\n",
    "    print(\"hello\")\n",
    "\n",
    "#eg:2\n",
    "\n",
    "a=6\n",
    "if a>3:\n",
    "    print(\"yes\")\n",
    "else:\n",
    "    print(\"no\")\n",
    "\n",
    "#eg:3\n",
    "\n",
    "if 7>8:\n",
    "    print(\"hello\")\n",
    "\n",
    "print(\"no\")\n",
    "\n",
    "#eg:4\n",
    "a=0\n",
    "a= None\n",
    "a=False\n",
    "a=\"\"\n",
    "if a:\n",
    "    print(\"yes\")\n",
    "else:\n",
    "    print(\"no\")"
   ]
  },
  {
   "cell_type": "code",
   "execution_count": 66,
   "id": "8dfd64a6-aedd-4c3d-9ae3-e1ee69ccaef5",
   "metadata": {},
   "outputs": [
    {
     "name": "stdin",
     "output_type": "stream",
     "text": [
      "enter the value 87\n"
     ]
    },
    {
     "name": "stdout",
     "output_type": "stream",
     "text": [
      "the number is odd\n"
     ]
    }
   ],
   "source": [
    "a=int(input(\"enter the value\"))\n",
    "if a%2==0:\n",
    "    print(\"the number is even\")\n",
    "else:\n",
    "    print(\"the number is odd\")"
   ]
  },
  {
   "cell_type": "code",
   "execution_count": 80,
   "id": "6e49911b-d3be-4e7d-8435-22a1f957cc9c",
   "metadata": {},
   "outputs": [
    {
     "name": "stdin",
     "output_type": "stream",
     "text": [
      "enter the name venkata sai\n",
      "enter the age 21\n",
      "enter the nationality indian\n"
     ]
    },
    {
     "name": "stdout",
     "output_type": "stream",
     "text": [
      "eligible for vote\n"
     ]
    }
   ],
   "source": [
    "name=str(input(\"enter the name\"))\n",
    "age=int(input(\"enter the age\"))\n",
    "a=str(input(\"enter the nationality\"))\n",
    "if age>=18 and a==\"indian\":\n",
    "    print(\"eligible for vote\")\n",
    "else:\n",
    "    print(\"not eligible to vote\")\n",
    "   \n",
    "    "
   ]
  },
  {
   "cell_type": "code",
   "execution_count": 84,
   "id": "acb45fbb-84cd-488f-b9ef-863e6627f98b",
   "metadata": {},
   "outputs": [
    {
     "name": "stdin",
     "output_type": "stream",
     "text": [
      "enter the feature 1\n",
      "enter the feature 4\n"
     ]
    }
   ],
   "source": [
    "a=int(input(\"enter the feature\"))\n",
    "b=int(input(\"enter the feature\"))\n",
    "x=[a, a+1]\n",
    "y=[a, b]\n",
    "z=[b, b+1]\n",
    "a,b=c=a,a+1 \n",
    "if c==0:\n",
    "      print (correct)\n",
    "    "
   ]
  },
  {
   "cell_type": "code",
   "execution_count": null,
   "id": "335c8511-ac3b-4298-b4ae-cfb1566195a4",
   "metadata": {},
   "outputs": [],
   "source": []
  }
 ],
 "metadata": {
  "kernelspec": {
   "display_name": "Python 3 (ipykernel)",
   "language": "python",
   "name": "python3"
  },
  "language_info": {
   "codemirror_mode": {
    "name": "ipython",
    "version": 3
   },
   "file_extension": ".py",
   "mimetype": "text/x-python",
   "name": "python",
   "nbconvert_exporter": "python",
   "pygments_lexer": "ipython3",
   "version": "3.11.7"
  }
 },
 "nbformat": 4,
 "nbformat_minor": 5
}
